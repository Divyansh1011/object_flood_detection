{
  "nbformat": 4,
  "nbformat_minor": 0,
  "metadata": {
    "colab": {
      "name": "flood_detection.ipynb",
      "provenance": []
    },
    "kernelspec": {
      "name": "python3",
      "display_name": "Python 3"
    },
    "language_info": {
      "name": "python"
    }
  },
  "cells": [
    {
      "cell_type": "code",
      "metadata": {
        "id": "3Fcg9FE1zIX-"
      },
      "source": [
        " import numpy as np\n",
        " import tensorflow as tf\n",
        " import matplotlib as mpl\n",
        " from keras import backend\n",
        "from tensorflow import keras\n",
        "import matplotlib.pyplot as plt\n",
        "from sklearn.metrics import f1_score\n",
        "from sklearn.metrics import accuracy_score\n",
        "from tensorflow.keras.models import Model\n",
        "from tensorflow.keras.optimizers import Adam\n",
        "from sklearn.metrics import confusion_matrix\n",
        "from keras.applications import imagenet_utils\n",
        "from tensorflow.keras.preprocessing import image\n",
        "from tensorflow.keras.layers import Dense, Activation\n",
        "from sklearn.metrics import precision_score, recall_score\n",
        "from tensorflow.keras.metrics import categorical_crossentropy\n",
        "from tensorflow.keras.preprocessing.image import ImageDataGenerator\n",
        "from tensorflow.keras.applications.mobilenet import decode_predictions, preprocess_input"
      ],
      "execution_count": null,
      "outputs": []
    },
    {
      "cell_type": "code",
      "metadata": {
        "colab": {
          "base_uri": "https://localhost:8080/"
        },
        "id": "_AF6OMnh0WTU",
        "outputId": "ba00e474-ee19-4e0c-abc7-9a3eaeefed49"
      },
      "source": [
        "from google.colab import drive\n",
        "drive.mount('/content/gdrive')\n",
        "\n"
      ],
      "execution_count": null,
      "outputs": [
        {
          "output_type": "stream",
          "name": "stdout",
          "text": [
            "Drive already mounted at /content/gdrive; to attempt to forcibly remount, call drive.mount(\"/content/gdrive\", force_remount=True).\n"
          ]
        }
      ]
    },
    {
      "cell_type": "code",
      "metadata": {
        "colab": {
          "base_uri": "https://localhost:8080/"
        },
        "id": "bhWbWxsl2hSv",
        "outputId": "5e306008-e333-4828-9b9f-1cb94335fd6a"
      },
      "source": [
        "!ls \"/content/gdrive/My Drive/data/train/flooding\""
      ],
      "execution_count": null,
      "outputs": [
        {
          "output_type": "stream",
          "name": "stdout",
          "text": [
            "frame0.jpg    frame33.jpg  frame89.jpg\t  image_157.jpg  image_34.jpg\n",
            "frame100.jpg  frame34.jpg  frame8.jpg\t  image_158.jpg  image_35.jpg\n",
            "frame101.jpg  frame35.jpg  frame90.jpg\t  image_159.jpg  image_36.jpg\n",
            "frame102.jpg  frame36.jpg  frame91.jpg\t  image_161.jpg  image_37.jpg\n",
            "frame103.jpg  frame37.jpg  frame92.jpg\t  image_162.jpg  image_38.jpg\n",
            "frame104.jpg  frame38.jpg  frame93.jpg\t  image_163.jpg  image_39.jpg\n",
            "frame105.jpg  frame39.jpg  frame94.jpg\t  image_164.jpg  image_3.jpg\n",
            "frame106.jpg  frame3.jpg   frame95.jpg\t  image_165.jpg  image_40.jpg\n",
            "frame107.jpg  frame40.jpg  frame96.jpg\t  image_166.jpg  image_41.jpg\n",
            "frame108.jpg  frame41.jpg  frame97.jpg\t  image_168.jpg  image_42.jpg\n",
            "frame109.jpg  frame42.jpg  frame98.jpg\t  image_169.jpg  image_43.jpg\n",
            "frame10.jpg   frame43.jpg  frame99.jpg\t  image_16.jpg\t image_45.jpg\n",
            "frame110.jpg  frame44.jpg  frame9.jpg\t  image_170.jpg  image_46.jpg\n",
            "frame111.jpg  frame45.jpg  image_100.jpg  image_171.jpg  image_47.jpg\n",
            "frame112.jpg  frame46.jpg  image_101.jpg  image_172.jpg  image_48.jpg\n",
            "frame113.jpg  frame47.jpg  image_102.jpg  image_174.jpg  image_49.jpg\n",
            "frame114.jpg  frame48.jpg  image_103.jpg  image_175.jpg  image_50.jpg\n",
            "frame115.jpg  frame49.jpg  image_104.jpg  image_176.jpg  image_51.jpg\n",
            "frame116.jpg  frame4.jpg   image_105.jpg  image_177.jpg  image_53.jpg\n",
            "frame117.jpg  frame50.jpg  image_106.jpg  image_178.jpg  image_54.jpg\n",
            "frame118.jpg  frame51.jpg  image_107.jpg  image_179.jpg  image_55.jpg\n",
            "frame119.jpg  frame52.jpg  image_108.jpg  image_17.jpg\t image_56.jpg\n",
            "frame11.jpg   frame53.jpg  image_109.jpg  image_180.jpg  image_57.jpg\n",
            "frame120.jpg  frame54.jpg  image_110.jpg  image_181.jpg  image_58.jpg\n",
            "frame121.jpg  frame55.jpg  image_111.jpg  image_182.jpg  image_59.jpg\n",
            "frame122.jpg  frame56.jpg  image_114.jpg  image_183.jpg  image_5.jpg\n",
            "frame123.jpg  frame57.jpg  image_116.jpg  image_184.jpg  image_60.jpg\n",
            "frame124.jpg  frame58.jpg  image_117.jpg  image_185.jpg  image_61.jpg\n",
            "frame125.jpg  frame59.jpg  image_118.jpg  image_186.jpg  image_63.jpg\n",
            "frame126.jpg  frame5.jpg   image_11.jpg   image_187.jpg  image_64.jpg\n",
            "frame127.jpg  frame60.jpg  image_120.jpg  image_188.jpg  image_65.jpg\n",
            "frame128.jpg  frame61.jpg  image_121.jpg  image_189.jpg  image_66.jpg\n",
            "frame129.jpg  frame62.jpg  image_122.jpg  image_18.jpg\t image_67.jpg\n",
            "frame12.jpg   frame63.jpg  image_124.jpg  image_190.jpg  image_69.jpg\n",
            "frame130.jpg  frame64.jpg  image_125.jpg  image_191.jpg  image_6.jpg\n",
            "frame131.jpg  frame65.jpg  image_127.jpg  image_192.jpg  image_70.jpg\n",
            "frame132.jpg  frame66.jpg  image_129.jpg  image_193.jpg  image_71.jpg\n",
            "frame133.jpg  frame67.jpg  image_12.jpg   image_194.jpg  image_72.jpg\n",
            "frame134.jpg  frame68.jpg  image_131.jpg  image_195.jpg  image_73.jpg\n",
            "frame13.jpg   frame69.jpg  image_132.jpg  image_196.jpg  image_74.jpg\n",
            "frame14.jpg   frame6.jpg   image_134.jpg  image_197.jpg  image_76.jpg\n",
            "frame15.jpg   frame70.jpg  image_135.jpg  image_198.jpg  image_78.jpg\n",
            "frame16.jpg   frame71.jpg  image_136.jpg  image_199.jpg  image_79.jpg\n",
            "frame17.jpg   frame72.jpg  image_137.jpg  image_19.jpg\t image_80.jpg\n",
            "frame18.jpg   frame73.jpg  image_138.jpg  image_1.jpg\t image_82.jpg\n",
            "frame19.jpg   frame74.jpg  image_139.jpg  image_200.jpg  image_83.jpg\n",
            "frame1.jpg    frame75.jpg  image_13.jpg   image_201.jpg  image_85.jpg\n",
            "frame20.jpg   frame76.jpg  image_140.jpg  image_202.jpg  image_86.jpg\n",
            "frame21.jpg   frame77.jpg  image_142.jpg  image_203.jpg  image_88.jpg\n",
            "frame22.jpg   frame78.jpg  image_143.jpg  image_204.jpg  image_89.jpg\n",
            "frame23.jpg   frame79.jpg  image_144.jpg  image_206.jpg  image_90.jpg\n",
            "frame24.jpg   frame7.jpg   image_146.jpg  image_20.jpg\t image_91.jpg\n",
            "frame25.jpg   frame80.jpg  image_147.jpg  image_210.jpg  image_92.jpg\n",
            "frame26.jpg   frame81.jpg  image_149.jpg  image_23.jpg\t image_93.jpg\n",
            "frame27.jpg   frame82.jpg  image_14.jpg   image_24.jpg\t image_95.jpg\n",
            "frame28.jpg   frame83.jpg  image_150.jpg  image_25.jpg\t image_96.jpg\n",
            "frame29.jpg   frame84.jpg  image_151.jpg  image_26.jpg\t image_97.jpg\n",
            "frame2.jpg    frame85.jpg  image_152.jpg  image_2.jpg\t image_98.jpg\n",
            "frame30.jpg   frame86.jpg  image_153.jpg  image_30.jpg\t image_9.jpg\n",
            "frame31.jpg   frame87.jpg  image_155.jpg  image_31.jpg\n",
            "frame32.jpg   frame88.jpg  image_156.jpg  image_32.jpg\n"
          ]
        }
      ]
    },
    {
      "cell_type": "code",
      "metadata": {
        "colab": {
          "base_uri": "https://localhost:8080/"
        },
        "id": "Lwj8aOWB3lIQ",
        "outputId": "83c88cd0-37e3-4b6b-eb73-ffbeb42cf030"
      },
      "source": [
        "labels = ['Flooding', 'No Flooding']\n",
        "train_path = \"/content/gdrive/My Drive/data/train\"\n",
        "valid_path = \"/content/gdrive/My Drive/data/valid\"\n",
        "test_path = \"/content/gdrive/My Drive/data/test\"\n",
        "\n",
        "train_batches = ImageDataGenerator(preprocessing_function=tf.keras.applications.mobilenet.preprocess_input).flow_from_directory(\n",
        "    directory=train_path, target_size=(224,224), batch_size=10)\n",
        "valid_batches = ImageDataGenerator(preprocessing_function=tf.keras.applications.mobilenet.preprocess_input).flow_from_directory(\n",
        "    directory=valid_path, target_size=(224,224), batch_size=10)\n",
        "test_batches = ImageDataGenerator(preprocessing_function=tf.keras.applications.mobilenet.preprocess_input).flow_from_directory(\n",
        "    directory=test_path, target_size=(224,224), batch_size=10, shuffle=False)"
      ],
      "execution_count": null,
      "outputs": [
        {
          "output_type": "stream",
          "name": "stdout",
          "text": [
            "Found 456 images belonging to 2 classes.\n",
            "Found 81 images belonging to 2 classes.\n",
            "Found 71 images belonging to 2 classes.\n"
          ]
        }
      ]
    },
    {
      "cell_type": "code",
      "metadata": {
        "id": "nmGla8RO4WpK"
      },
      "source": [
        "#loading the pre-trained lightweight mobilenet image classifier\n",
        "mobile = tf.keras.applications.mobilenet.MobileNet()\n"
      ],
      "execution_count": null,
      "outputs": []
    },
    {
      "cell_type": "code",
      "metadata": {
        "id": "Hqbhe3-H5YAg"
      },
      "source": [
        "x = mobile.layers[-6].output"
      ],
      "execution_count": null,
      "outputs": []
    },
    {
      "cell_type": "code",
      "metadata": {
        "id": "9O54VDmo6zhA"
      },
      "source": [
        "output = Dense(units=2, activation='softmax')(x)\n"
      ],
      "execution_count": null,
      "outputs": []
    },
    {
      "cell_type": "code",
      "metadata": {
        "id": "wsH_Gmvn7Azb"
      },
      "source": [
        "model = Model(inputs=mobile.input, outputs=output)"
      ],
      "execution_count": null,
      "outputs": []
    },
    {
      "cell_type": "code",
      "metadata": {
        "id": "nEM8CWK87Si7"
      },
      "source": [
        "#Freeze weights of all the layers except the last five layers in our new model.\n",
        "#TRAINING ONLY THE LAST FIVE LAYERS OF THE MODEL\n",
        "for layer in model.layers[:-23]:\n",
        "    layer.trainable = False"
      ],
      "execution_count": null,
      "outputs": []
    },
    {
      "cell_type": "code",
      "metadata": {
        "colab": {
          "base_uri": "https://localhost:8080/"
        },
        "id": "QUOfKxyP87yw",
        "outputId": "bd61caa6-0528-464b-c874-ccff0feaf8ef"
      },
      "source": [
        "model.summary()"
      ],
      "execution_count": null,
      "outputs": [
        {
          "output_type": "stream",
          "name": "stdout",
          "text": [
            "Model: \"model_1\"\n",
            "_________________________________________________________________\n",
            "Layer (type)                 Output Shape              Param #   \n",
            "=================================================================\n",
            "input_2 (InputLayer)         [(None, 224, 224, 3)]     0         \n",
            "_________________________________________________________________\n",
            "conv1 (Conv2D)               (None, 112, 112, 32)      864       \n",
            "_________________________________________________________________\n",
            "conv1_bn (BatchNormalization (None, 112, 112, 32)      128       \n",
            "_________________________________________________________________\n",
            "conv1_relu (ReLU)            (None, 112, 112, 32)      0         \n",
            "_________________________________________________________________\n",
            "conv_dw_1 (DepthwiseConv2D)  (None, 112, 112, 32)      288       \n",
            "_________________________________________________________________\n",
            "conv_dw_1_bn (BatchNormaliza (None, 112, 112, 32)      128       \n",
            "_________________________________________________________________\n",
            "conv_dw_1_relu (ReLU)        (None, 112, 112, 32)      0         \n",
            "_________________________________________________________________\n",
            "conv_pw_1 (Conv2D)           (None, 112, 112, 64)      2048      \n",
            "_________________________________________________________________\n",
            "conv_pw_1_bn (BatchNormaliza (None, 112, 112, 64)      256       \n",
            "_________________________________________________________________\n",
            "conv_pw_1_relu (ReLU)        (None, 112, 112, 64)      0         \n",
            "_________________________________________________________________\n",
            "conv_pad_2 (ZeroPadding2D)   (None, 113, 113, 64)      0         \n",
            "_________________________________________________________________\n",
            "conv_dw_2 (DepthwiseConv2D)  (None, 56, 56, 64)        576       \n",
            "_________________________________________________________________\n",
            "conv_dw_2_bn (BatchNormaliza (None, 56, 56, 64)        256       \n",
            "_________________________________________________________________\n",
            "conv_dw_2_relu (ReLU)        (None, 56, 56, 64)        0         \n",
            "_________________________________________________________________\n",
            "conv_pw_2 (Conv2D)           (None, 56, 56, 128)       8192      \n",
            "_________________________________________________________________\n",
            "conv_pw_2_bn (BatchNormaliza (None, 56, 56, 128)       512       \n",
            "_________________________________________________________________\n",
            "conv_pw_2_relu (ReLU)        (None, 56, 56, 128)       0         \n",
            "_________________________________________________________________\n",
            "conv_dw_3 (DepthwiseConv2D)  (None, 56, 56, 128)       1152      \n",
            "_________________________________________________________________\n",
            "conv_dw_3_bn (BatchNormaliza (None, 56, 56, 128)       512       \n",
            "_________________________________________________________________\n",
            "conv_dw_3_relu (ReLU)        (None, 56, 56, 128)       0         \n",
            "_________________________________________________________________\n",
            "conv_pw_3 (Conv2D)           (None, 56, 56, 128)       16384     \n",
            "_________________________________________________________________\n",
            "conv_pw_3_bn (BatchNormaliza (None, 56, 56, 128)       512       \n",
            "_________________________________________________________________\n",
            "conv_pw_3_relu (ReLU)        (None, 56, 56, 128)       0         \n",
            "_________________________________________________________________\n",
            "conv_pad_4 (ZeroPadding2D)   (None, 57, 57, 128)       0         \n",
            "_________________________________________________________________\n",
            "conv_dw_4 (DepthwiseConv2D)  (None, 28, 28, 128)       1152      \n",
            "_________________________________________________________________\n",
            "conv_dw_4_bn (BatchNormaliza (None, 28, 28, 128)       512       \n",
            "_________________________________________________________________\n",
            "conv_dw_4_relu (ReLU)        (None, 28, 28, 128)       0         \n",
            "_________________________________________________________________\n",
            "conv_pw_4 (Conv2D)           (None, 28, 28, 256)       32768     \n",
            "_________________________________________________________________\n",
            "conv_pw_4_bn (BatchNormaliza (None, 28, 28, 256)       1024      \n",
            "_________________________________________________________________\n",
            "conv_pw_4_relu (ReLU)        (None, 28, 28, 256)       0         \n",
            "_________________________________________________________________\n",
            "conv_dw_5 (DepthwiseConv2D)  (None, 28, 28, 256)       2304      \n",
            "_________________________________________________________________\n",
            "conv_dw_5_bn (BatchNormaliza (None, 28, 28, 256)       1024      \n",
            "_________________________________________________________________\n",
            "conv_dw_5_relu (ReLU)        (None, 28, 28, 256)       0         \n",
            "_________________________________________________________________\n",
            "conv_pw_5 (Conv2D)           (None, 28, 28, 256)       65536     \n",
            "_________________________________________________________________\n",
            "conv_pw_5_bn (BatchNormaliza (None, 28, 28, 256)       1024      \n",
            "_________________________________________________________________\n",
            "conv_pw_5_relu (ReLU)        (None, 28, 28, 256)       0         \n",
            "_________________________________________________________________\n",
            "conv_pad_6 (ZeroPadding2D)   (None, 29, 29, 256)       0         \n",
            "_________________________________________________________________\n",
            "conv_dw_6 (DepthwiseConv2D)  (None, 14, 14, 256)       2304      \n",
            "_________________________________________________________________\n",
            "conv_dw_6_bn (BatchNormaliza (None, 14, 14, 256)       1024      \n",
            "_________________________________________________________________\n",
            "conv_dw_6_relu (ReLU)        (None, 14, 14, 256)       0         \n",
            "_________________________________________________________________\n",
            "conv_pw_6 (Conv2D)           (None, 14, 14, 512)       131072    \n",
            "_________________________________________________________________\n",
            "conv_pw_6_bn (BatchNormaliza (None, 14, 14, 512)       2048      \n",
            "_________________________________________________________________\n",
            "conv_pw_6_relu (ReLU)        (None, 14, 14, 512)       0         \n",
            "_________________________________________________________________\n",
            "conv_dw_7 (DepthwiseConv2D)  (None, 14, 14, 512)       4608      \n",
            "_________________________________________________________________\n",
            "conv_dw_7_bn (BatchNormaliza (None, 14, 14, 512)       2048      \n",
            "_________________________________________________________________\n",
            "conv_dw_7_relu (ReLU)        (None, 14, 14, 512)       0         \n",
            "_________________________________________________________________\n",
            "conv_pw_7 (Conv2D)           (None, 14, 14, 512)       262144    \n",
            "_________________________________________________________________\n",
            "conv_pw_7_bn (BatchNormaliza (None, 14, 14, 512)       2048      \n",
            "_________________________________________________________________\n",
            "conv_pw_7_relu (ReLU)        (None, 14, 14, 512)       0         \n",
            "_________________________________________________________________\n",
            "conv_dw_8 (DepthwiseConv2D)  (None, 14, 14, 512)       4608      \n",
            "_________________________________________________________________\n",
            "conv_dw_8_bn (BatchNormaliza (None, 14, 14, 512)       2048      \n",
            "_________________________________________________________________\n",
            "conv_dw_8_relu (ReLU)        (None, 14, 14, 512)       0         \n",
            "_________________________________________________________________\n",
            "conv_pw_8 (Conv2D)           (None, 14, 14, 512)       262144    \n",
            "_________________________________________________________________\n",
            "conv_pw_8_bn (BatchNormaliza (None, 14, 14, 512)       2048      \n",
            "_________________________________________________________________\n",
            "conv_pw_8_relu (ReLU)        (None, 14, 14, 512)       0         \n",
            "_________________________________________________________________\n",
            "conv_dw_9 (DepthwiseConv2D)  (None, 14, 14, 512)       4608      \n",
            "_________________________________________________________________\n",
            "conv_dw_9_bn (BatchNormaliza (None, 14, 14, 512)       2048      \n",
            "_________________________________________________________________\n",
            "conv_dw_9_relu (ReLU)        (None, 14, 14, 512)       0         \n",
            "_________________________________________________________________\n",
            "conv_pw_9 (Conv2D)           (None, 14, 14, 512)       262144    \n",
            "_________________________________________________________________\n",
            "conv_pw_9_bn (BatchNormaliza (None, 14, 14, 512)       2048      \n",
            "_________________________________________________________________\n",
            "conv_pw_9_relu (ReLU)        (None, 14, 14, 512)       0         \n",
            "_________________________________________________________________\n",
            "conv_dw_10 (DepthwiseConv2D) (None, 14, 14, 512)       4608      \n",
            "_________________________________________________________________\n",
            "conv_dw_10_bn (BatchNormaliz (None, 14, 14, 512)       2048      \n",
            "_________________________________________________________________\n",
            "conv_dw_10_relu (ReLU)       (None, 14, 14, 512)       0         \n",
            "_________________________________________________________________\n",
            "conv_pw_10 (Conv2D)          (None, 14, 14, 512)       262144    \n",
            "_________________________________________________________________\n",
            "conv_pw_10_bn (BatchNormaliz (None, 14, 14, 512)       2048      \n",
            "_________________________________________________________________\n",
            "conv_pw_10_relu (ReLU)       (None, 14, 14, 512)       0         \n",
            "_________________________________________________________________\n",
            "conv_dw_11 (DepthwiseConv2D) (None, 14, 14, 512)       4608      \n",
            "_________________________________________________________________\n",
            "conv_dw_11_bn (BatchNormaliz (None, 14, 14, 512)       2048      \n",
            "_________________________________________________________________\n",
            "conv_dw_11_relu (ReLU)       (None, 14, 14, 512)       0         \n",
            "_________________________________________________________________\n",
            "conv_pw_11 (Conv2D)          (None, 14, 14, 512)       262144    \n",
            "_________________________________________________________________\n",
            "conv_pw_11_bn (BatchNormaliz (None, 14, 14, 512)       2048      \n",
            "_________________________________________________________________\n",
            "conv_pw_11_relu (ReLU)       (None, 14, 14, 512)       0         \n",
            "_________________________________________________________________\n",
            "conv_pad_12 (ZeroPadding2D)  (None, 15, 15, 512)       0         \n",
            "_________________________________________________________________\n",
            "conv_dw_12 (DepthwiseConv2D) (None, 7, 7, 512)         4608      \n",
            "_________________________________________________________________\n",
            "conv_dw_12_bn (BatchNormaliz (None, 7, 7, 512)         2048      \n",
            "_________________________________________________________________\n",
            "conv_dw_12_relu (ReLU)       (None, 7, 7, 512)         0         \n",
            "_________________________________________________________________\n",
            "conv_pw_12 (Conv2D)          (None, 7, 7, 1024)        524288    \n",
            "_________________________________________________________________\n",
            "conv_pw_12_bn (BatchNormaliz (None, 7, 7, 1024)        4096      \n",
            "_________________________________________________________________\n",
            "conv_pw_12_relu (ReLU)       (None, 7, 7, 1024)        0         \n",
            "_________________________________________________________________\n",
            "conv_dw_13 (DepthwiseConv2D) (None, 7, 7, 1024)        9216      \n",
            "_________________________________________________________________\n",
            "conv_dw_13_bn (BatchNormaliz (None, 7, 7, 1024)        4096      \n",
            "_________________________________________________________________\n",
            "conv_dw_13_relu (ReLU)       (None, 7, 7, 1024)        0         \n",
            "_________________________________________________________________\n",
            "conv_pw_13 (Conv2D)          (None, 7, 7, 1024)        1048576   \n",
            "_________________________________________________________________\n",
            "conv_pw_13_bn (BatchNormaliz (None, 7, 7, 1024)        4096      \n",
            "_________________________________________________________________\n",
            "conv_pw_13_relu (ReLU)       (None, 7, 7, 1024)        0         \n",
            "_________________________________________________________________\n",
            "global_average_pooling2d_1 ( (None, 1024)              0         \n",
            "_________________________________________________________________\n",
            "dense_1 (Dense)              (None, 2)                 2050      \n",
            "=================================================================\n",
            "Total params: 3,230,914\n",
            "Trainable params: 1,865,730\n",
            "Non-trainable params: 1,365,184\n",
            "_________________________________________________________________\n"
          ]
        }
      ]
    },
    {
      "cell_type": "code",
      "metadata": {
        "colab": {
          "base_uri": "https://localhost:8080/"
        },
        "id": "lQH-Jasp9Boz",
        "outputId": "7f29a47a-6cbc-4047-dc41-813f32732d2f"
      },
      "source": [
        "#compile the model\n",
        "model.compile(optimizer=Adam(lr=0.0001), loss='categorical_crossentropy', metrics=['accuracy'])"
      ],
      "execution_count": null,
      "outputs": [
        {
          "output_type": "stream",
          "name": "stderr",
          "text": [
            "/usr/local/lib/python3.7/dist-packages/keras/optimizer_v2/optimizer_v2.py:356: UserWarning: The `lr` argument is deprecated, use `learning_rate` instead.\n",
            "  \"The `lr` argument is deprecated, use `learning_rate` instead.\")\n"
          ]
        }
      ]
    },
    {
      "cell_type": "code",
      "metadata": {
        "colab": {
          "base_uri": "https://localhost:8080/"
        },
        "id": "ezsWFAcM-UQN",
        "outputId": "3fbef3a7-8620-44d6-e6da-f5d668fde74b"
      },
      "source": [
        "# Train the Model\n",
        "\n",
        "model.fit(x=train_batches,\n",
        "          steps_per_epoch=len(train_batches),\n",
        "          validation_data=valid_batches,\n",
        "          validation_steps=len(valid_batches),\n",
        "          epochs=15,\n",
        "          verbose=2\n",
        ")"
      ],
      "execution_count": null,
      "outputs": [
        {
          "output_type": "stream",
          "name": "stdout",
          "text": [
            "Epoch 1/15\n"
          ]
        },
        {
          "output_type": "stream",
          "name": "stderr",
          "text": [
            "/usr/local/lib/python3.7/dist-packages/PIL/Image.py:960: UserWarning: Palette images with Transparency expressed in bytes should be converted to RGBA images\n",
            "  \"Palette images with Transparency expressed in bytes should be \"\n"
          ]
        },
        {
          "output_type": "stream",
          "name": "stdout",
          "text": [
            "46/46 - 69s - loss: 0.2765 - accuracy: 0.8750 - val_loss: 0.8510 - val_accuracy: 0.7654\n",
            "Epoch 2/15\n",
            "46/46 - 35s - loss: 0.0512 - accuracy: 0.9803 - val_loss: 0.2830 - val_accuracy: 0.9012\n",
            "Epoch 3/15\n",
            "46/46 - 35s - loss: 0.0301 - accuracy: 0.9934 - val_loss: 0.3429 - val_accuracy: 0.8765\n",
            "Epoch 4/15\n",
            "46/46 - 36s - loss: 0.0354 - accuracy: 0.9912 - val_loss: 0.1060 - val_accuracy: 0.9753\n",
            "Epoch 5/15\n",
            "46/46 - 35s - loss: 0.0098 - accuracy: 1.0000 - val_loss: 0.1197 - val_accuracy: 0.9630\n",
            "Epoch 6/15\n",
            "46/46 - 36s - loss: 0.0072 - accuracy: 1.0000 - val_loss: 0.0882 - val_accuracy: 0.9753\n",
            "Epoch 7/15\n",
            "46/46 - 35s - loss: 0.0084 - accuracy: 0.9978 - val_loss: 0.2684 - val_accuracy: 0.9012\n",
            "Epoch 8/15\n",
            "46/46 - 36s - loss: 0.0076 - accuracy: 0.9978 - val_loss: 0.1198 - val_accuracy: 0.9630\n",
            "Epoch 9/15\n",
            "46/46 - 35s - loss: 0.0088 - accuracy: 1.0000 - val_loss: 0.1210 - val_accuracy: 0.9630\n",
            "Epoch 10/15\n",
            "46/46 - 35s - loss: 0.0043 - accuracy: 1.0000 - val_loss: 0.1005 - val_accuracy: 0.9630\n",
            "Epoch 11/15\n",
            "46/46 - 35s - loss: 0.0039 - accuracy: 1.0000 - val_loss: 0.1773 - val_accuracy: 0.9259\n",
            "Epoch 12/15\n",
            "46/46 - 35s - loss: 0.0030 - accuracy: 1.0000 - val_loss: 0.2200 - val_accuracy: 0.9259\n",
            "Epoch 13/15\n",
            "46/46 - 35s - loss: 0.0034 - accuracy: 1.0000 - val_loss: 0.1133 - val_accuracy: 0.9753\n",
            "Epoch 14/15\n",
            "46/46 - 35s - loss: 0.0031 - accuracy: 1.0000 - val_loss: 0.1449 - val_accuracy: 0.9506\n",
            "Epoch 15/15\n",
            "46/46 - 35s - loss: 0.0031 - accuracy: 1.0000 - val_loss: 0.1067 - val_accuracy: 0.9630\n"
          ]
        },
        {
          "output_type": "execute_result",
          "data": {
            "text/plain": [
              "<keras.callbacks.History at 0x7f915214dc90>"
            ]
          },
          "metadata": {},
          "execution_count": 42
        }
      ]
    },
    {
      "cell_type": "code",
      "metadata": {
        "colab": {
          "base_uri": "https://localhost:8080/"
        },
        "id": "bnpMccfW-r70",
        "outputId": "502d2f5b-d106-4da2-f40d-fb8881b42468"
      },
      "source": [
        "model.save(\"fine_tuned_flood_detection_model\")"
      ],
      "execution_count": null,
      "outputs": [
        {
          "output_type": "stream",
          "name": "stdout",
          "text": [
            "INFO:tensorflow:Assets written to: fine_tuned_flood_detection_model/assets\n"
          ]
        }
      ]
    },
    {
      "cell_type": "code",
      "metadata": {
        "id": "pQkE6YgYBfd3"
      },
      "source": [
        "#make predictions and plot confusion matrix to look how well our model performed in classifying \n",
        "#flooding amd no flooding images \n",
        "test_labels = test_batches.classes\n",
        "predictions = model.predict(x=test_batches, steps=len(test_batches), verbose=0)\n",
        "cm = confusion_matrix(y_true=test_labels, y_pred=predictions.argmax(axis=1))\n",
        "precision = precision_score(y_true=test_labels, y_pred=predictions.argmax(axis=1))\n",
        "accuracy = accuracy_score(y_true=test_labels, y_pred=predictions.argmax(axis=1))\n",
        "def plot_confusion_matrix(cm, classes,\n",
        "                          normalize=False,\n",
        "                          title='Confusion matrix',\n",
        "                          cmap=plt.cm.Blues):\n",
        "    plt.imshow(cm, interpolation='nearest', cmap=cmap)\n",
        "    plt.title(title)\n",
        "    plt.colorbar()\n",
        "    tick_marks = np.arange(len(classes))\n",
        "    plt.xticks(tick_marks, classes, rotation=45)\n",
        "    plt.yticks(tick_marks, classes)\n",
        "    thresh = cm.max() / 2.\n",
        "    for i in range (cm.shape[0]):\n",
        "      for j in range (cm.shape[1]):\n",
        "        plt.text(j, i, cm[i, j],\n",
        "            horizontalalignment=\"center\",\n",
        "            color=\"white\" if cm[i, j] > thresh else \"black\")\n",
        "\n",
        "    plt.tight_layout()\n",
        "    plt.ylabel('True label')\n",
        "    plt.xlabel('Predicted label')"
      ],
      "execution_count": null,
      "outputs": []
    },
    {
      "cell_type": "code",
      "metadata": {
        "id": "elq-4l20Hfs5"
      },
      "source": [
        ""
      ],
      "execution_count": null,
      "outputs": []
    },
    {
      "cell_type": "code",
      "metadata": {
        "colab": {
          "base_uri": "https://localhost:8080/"
        },
        "id": "HKcPIidkDmAi",
        "outputId": "cec2d26d-2d0c-448c-bb13-974dff3abcf6"
      },
      "source": [
        "print('Precision: ', precision)\n",
        "\n",
        "print('Accuracy: ', accuracy)\n"
      ],
      "execution_count": null,
      "outputs": [
        {
          "output_type": "stream",
          "name": "stdout",
          "text": [
            "Precision:  0.9032258064516129\n",
            "Accuracy:  0.9577464788732394\n"
          ]
        }
      ]
    },
    {
      "cell_type": "code",
      "metadata": {
        "colab": {
          "base_uri": "https://localhost:8080/",
          "height": 311
        },
        "id": "-VTRvqdAD3bP",
        "outputId": "79066fc9-5bd6-410d-d385-e5ce62fcb6ab"
      },
      "source": [
        "def plot_confusion_matrix(cm, classes,\n",
        "                          normalize=False,\n",
        "                          title='Confusion matrix',\n",
        "                          cmap=plt.cm.Blues):\n",
        "    plt.imshow(cm, interpolation='nearest', cmap=cmap)\n",
        "    plt.title(title)\n",
        "    plt.colorbar()\n",
        "    tick_marks = np.arange(len(classes))\n",
        "    plt.xticks(tick_marks, classes, rotation=45)\n",
        "    plt.yticks(tick_marks, classes)\n",
        "    thresh = cm.max() / 2.\n",
        "    for i in range (cm.shape[0]):\n",
        "      for j in range (cm.shape[1]):\n",
        "        plt.text(j, i, cm[i, j],\n",
        "            horizontalalignment=\"center\",\n",
        "            color=\"white\" if cm[i, j] > thresh else \"black\")\n",
        "\n",
        "    plt.tight_layout()\n",
        "    plt.ylabel('True label')\n",
        "    plt.xlabel('Predicted label')\n",
        "test_batches.class_indices\n",
        "cm_plot_labels = ['Flooding','No Flooding']\n",
        "plot_confusion_matrix(cm=cm, classes=cm_plot_labels, title='Confusion Matrix')"
      ],
      "execution_count": null,
      "outputs": [
        {
          "output_type": "display_data",
          "data": {
            "image/png": "[encoded data removed]",
            "text/plain": [
              "<Figure size 432x288 with 2 Axes>"
            ]
          },
          "metadata": {
            "needs_background": "light"
          }
        }
      ]
    },
    {
      "cell_type": "code",
      "metadata": {
        "id": "NTOz_5zvHKDI"
      },
      "source": [
        "def preprocess_image(file):\n",
        "    img_path = \"/content/gdrive/My Drive/data/evaluate/\"\n",
        "    img = image.load_img(img_path + file, target_size=(224, 224))\n",
        "    img_array = image.img_to_array(img)\n",
        "    img_array_expanded_dims = np.expand_dims(img_array, axis=0)\n",
        "    return tf.keras.applications.mobilenet.preprocess_input(img_array_expanded_dims)\n",
        "\n",
        "preprocessed_image = preprocess_image(\"frame56.jpg\")\n",
        "predictions = model.predict(preprocessed_image)"
      ],
      "execution_count": null,
      "outputs": []
    },
    {
      "cell_type": "code",
      "metadata": {
        "colab": {
          "base_uri": "https://localhost:8080/",
          "height": 217
        },
        "id": "htzu4xAzWcVK",
        "outputId": "d885d71f-8c13-4d93-9bb1-ea49f77fa80e"
      },
      "source": [
        "from IPython.display import Image\n",
        "Image(filename=\"/content/gdrive/My Drive/data/evaluate/frame56.jpg\", width=300,height=200)\n"
      ],
      "execution_count": null,
      "outputs": [
        {
          "output_type": "execute_result",
          "data": {
            "image/jpeg": "[encoded data removed]",
            "text/plain": [
              "<IPython.core.display.Image object>"
            ]
          },
          "metadata": {
            "image/jpeg": {
              "width": 300,
              "height": 200
            }
          },
          "execution_count": 65
        }
      ]
    },
    {
      "cell_type": "code",
      "metadata": {
        "id": "96KLdSUBlMua"
      },
      "source": [
        ""
      ],
      "execution_count": null,
      "outputs": []
    },
    {
      "cell_type": "code",
      "metadata": {
        "colab": {
          "base_uri": "https://localhost:8080/"
        },
        "id": "hT005MxpWusk",
        "outputId": "f759a0b5-d28f-457f-cc34-8dca39861c28"
      },
      "source": [
        "predictions"
      ],
      "execution_count": null,
      "outputs": [
        {
          "output_type": "execute_result",
          "data": {
            "text/plain": [
              "array([[0.06602978, 0.9339703 ]], dtype=float32)"
            ]
          },
          "metadata": {},
          "execution_count": 66
        }
      ]
    },
    {
      "cell_type": "code",
      "metadata": {
        "id": "1yea6TdSWxDr"
      },
      "source": [
        "result = np.argmax(predictions)"
      ],
      "execution_count": null,
      "outputs": []
    },
    {
      "cell_type": "code",
      "metadata": {
        "colab": {
          "base_uri": "https://localhost:8080/",
          "height": 38
        },
        "id": "xv5pkT_NW0EB",
        "outputId": "4d7dbc30-253b-4752-ac45-2dadbabeebc8"
      },
      "source": [
        "labels[result]"
      ],
      "execution_count": null,
      "outputs": [
        {
          "output_type": "execute_result",
          "data": {
            "application/vnd.google.colaboratory.intrinsic+json": {
              "type": "string"
            },
            "text/plain": [
              "'No Flooding'"
            ]
          },
          "metadata": {},
          "execution_count": 68
        }
      ]
    },
    {
      "cell_type": "code",
      "metadata": {
        "id": "VeQDUiI4W3m_"
      },
      "source": [
        "import cv2"
      ],
      "execution_count": null,
      "outputs": []
    },
    {
      "cell_type": "code",
      "metadata": {
        "id": "ANePiQC3chc_"
      },
      "source": [
        "vidap = cv2.VideoCapture('https://www.youtube.com/watch?v=EYqUd6WJIsI')"
      ],
      "execution_count": null,
      "outputs": []
    },
    {
      "cell_type": "code",
      "metadata": {
        "id": "kc-GU6NJc8wX"
      },
      "source": [
        "success,image = vidap.read()\n",
        "count = 0\n",
        "while success:\n",
        "  cv2.imwrite(\"frame%d.jpg\" % count, image)     # save frame as JPEG file      \n",
        "  success,image = vidcap.read()\n",
        "  print('Read a new frame: ', success)\n",
        "  count += 1"
      ],
      "execution_count": null,
      "outputs": []
    },
    {
      "cell_type": "code",
      "metadata": {
        "id": "HQw1bgyudTHO"
      },
      "source": [
        "image"
      ],
      "execution_count": null,
      "outputs": []
    },
    {
      "cell_type": "code",
      "metadata": {
        "colab": {
          "base_uri": "https://localhost:8080/"
        },
        "id": "zlv2tfjZdWVC",
        "outputId": "d0bc0bf1-645a-48d4-d3d8-31076acdab82"
      },
      "source": [
        "success"
      ],
      "execution_count": null,
      "outputs": [
        {
          "output_type": "execute_result",
          "data": {
            "text/plain": [
              "False"
            ]
          },
          "metadata": {},
          "execution_count": 92
        }
      ]
    },
    {
      "cell_type": "code",
      "metadata": {
        "id": "df6oz6bAdYNv"
      },
      "source": [
        "'''\n",
        "Using OpenCV takes a mp4 video and produces a number of images.\n",
        "\n",
        "Requirements\n",
        "----\n",
        "You require OpenCV 3.2 to be installed.\n",
        "\n",
        "Run\n",
        "----\n",
        "Open the main.py and edit the path to the video. Then run:\n",
        "$ python main.py\n",
        "\n",
        "Which will produce a folder called data with the images. There will be 2000+ images for example.mp4.\n",
        "'''\n",
        "import cv2\n",
        "import numpy as np\n",
        "import os\n",
        "\n",
        "# Playing video from file:\n",
        "cap = cv2.VideoCapture('example.mp4')\n",
        "\n",
        "try:\n",
        "    if not os.path.exists('data'):\n",
        "        os.makedirs('data')\n",
        "except OSError:\n",
        "    print ('Error: Creating directory of data')\n",
        "\n",
        "currentFrame = 0\n",
        "while(True):\n",
        "    # Capture frame-by-frame\n",
        "    ret, frame = cap.read()\n",
        "\n",
        "    # Saves image of the current frame in jpg file\n",
        "    name = './data/frame' + str(currentFrame) + '.jpg'\n",
        "    print ('Creating...' + name)\n",
        "    cv2.imwrite(name, frame)\n",
        "\n",
        "    # To stop duplicate images\n",
        "    currentFrame += 1\n",
        "\n",
        "# When everything done, release the capture\n",
        "cap.release()\n",
        "cv2.destroyAllWindows()"
      ],
      "execution_count": null,
      "outputs": []
    }
  ]
}